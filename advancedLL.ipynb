{
 "cells": [
  {
   "cell_type": "code",
   "execution_count": 19,
   "metadata": {
    "scrolled": false
   },
   "outputs": [],
   "source": [
    "import pickle\n",
    "import cv2\n",
    "import numpy as np\n",
    "import matplotlib.pyplot as plt\n",
    "import matplotlib.image as mpimg\n",
    "import glob\n",
    "\n",
    "\n",
    "def cal_undistort(img, objpoints, imgpoints):\n",
    "    # Use cv2.calibrateCamera() and cv2.undistort()\n",
    "    gray=cv2.cvtColor(img,cv2.COLOR_BGR2GRAY)\n",
    "    ret, mtx, dist, rvecs, tvecs = cv2.calibrateCamera(objpoints, imgpoints, gray.shape[::-1],None,None)\n",
    "    undist = cv2.undistort(img, mtx, dist, None, mtx)  # Delete this line\n",
    "    return undist\n",
    "\n",
    "# prepare object points\n",
    "nx = 9#TODO: enter the number of inside corners in x\n",
    "ny = 6#TODO: enter the number of inside corners in y\n",
    "\n",
    "imgpoints = []\n",
    "objpoints = []\n",
    "\n",
    "objp = np.zeros((ny*nx,3),np.float32)\n",
    "objp[:,:2] = np.mgrid[0:nx, 0:ny].T.reshape(-1,2) #here we created a nice chessboard\n",
    "filenames=glob.glob(\"camera_cal/calibration*.jpg\")\n",
    "    \n",
    "\n",
    "for fname in filenames:\n",
    "    img = cv2.imread(fname)\n",
    "    gray=cv2.cvtColor(img,cv2.COLOR_BGR2GRAY)# Find the chessboard corners\n",
    "    ret, corners = cv2.findChessboardCorners(gray, (nx, ny), None)\n",
    "\n",
    "    if ret == True:\n",
    "        imgpoints.append(corners)\n",
    "        objpoints.append(objp)\n",
    "\n",
    "    undistorted = cal_undistort(img, objpoints, imgpoints)\n",
    "    f, (ax1, ax2) = plt.subplots(1, 2, figsize=(24, 9))\n",
    "    f.tight_layout()\n",
    "    ax1.imshow(img)\n",
    "    ax1.set_title('Original Image', fontsize=50)\n",
    "    ax2.imshow(undistorted)\n",
    "    ax2.set_title('Undistorted Image', fontsize=50)\n",
    "    plt.subplots_adjust(left=0., right=1, top=0.9, bottom=0.)"
   ]
  },
  {
   "cell_type": "code",
   "execution_count": 21,
   "metadata": {},
   "outputs": [],
   "source": [
    "%matplotlib qt\n",
    "import cv2\n",
    "import matplotlib.pyplot as plt\n",
    "import numpy as np\n",
    "img = cv2.imread(\"test_images/straight_lines1.jpg\")\n",
    "undistorted_straight = cal_undistort(img, objpoints, imgpoints)\n",
    "\n",
    "plt.subplot(121)\n",
    "plt.imshow(undistorted_straight)\n",
    "\n",
    "plt.subplot(122)\n",
    "plt.imshow(img)\n",
    "\n",
    "plt.show()"
   ]
  },
  {
   "cell_type": "code",
   "execution_count": 23,
   "metadata": {},
   "outputs": [],
   "source": [
    "#src = np.float32([[380,599], [915,599], [613, 440], [668,440]])\n",
    "src = np.float32([[373,605], [920,605], [542, 487], [749,487]])\n",
    "#dst = np.float32([[380,599], [915,599], [380, 440], [915,440]])\n",
    "dst = np.float32([[373,605], [920,605], [373, 487], [920,487]])\n",
    "\n",
    "\n",
    "img_size = (undistorted_straight.shape[1],undistorted_straight.shape[0])\n",
    "\n",
    "M = cv2.getPerspectiveTransform(src,dst)\n",
    "warped = cv2.warpPerspective(undistorted_straight,M,img_size,flags=cv2.INTER_LINEAR)\n",
    "\n",
    "plt.imshow(warped)\n",
    "plt.show()\n",
    "\n"
   ]
  },
  {
   "cell_type": "code",
   "execution_count": 29,
   "metadata": {},
   "outputs": [],
   "source": [
    "\n",
    "exs2_img = cv2.imread(\"test_images/test4.jpg\")\n",
    "undistorted2 = cal_undistort(exs2_img, objpoints, imgpoints)\n",
    "warped = cv2.warpPerspective(undistorted2,M,img_size,flags=cv2.INTER_LINEAR)\n",
    "\n",
    "plt.subplot(121)\n",
    "plt.imshow(warped)\n",
    "\n",
    "plt.subplot(122)\n",
    "plt.imshow(exs2_img)\n",
    "\n",
    "plt.show()"
   ]
  },
  {
   "cell_type": "code",
   "execution_count": 41,
   "metadata": {},
   "outputs": [],
   "source": [
    "def abs_sobel_thresh(img, orient='x', thresh_min=15, thresh_max=200):\n",
    "    # Convert to grayscale\n",
    "    gray = cv2.cvtColor(img, cv2.COLOR_BGR2GRAY)\n",
    "    # Apply x or y gradient with the OpenCV Sobel() function\n",
    "    # and take the absolute value\n",
    "    if orient == 'x':\n",
    "        abs_sobel = np.absolute(cv2.Sobel(gray, cv2.CV_64F, 1, 0))\n",
    "    if orient == 'y':\n",
    "        abs_sobel = np.absolute(cv2.Sobel(gray, cv2.CV_64F, 0, 1))\n",
    "    # Rescale back to 8 bit integer\n",
    "    scaled_sobel = np.uint8(255*abs_sobel/np.max(abs_sobel))\n",
    "    # Create a copy and apply the threshold\n",
    "    binary_output = np.zeros_like(scaled_sobel)\n",
    "    # Here I'm using inclusive (>=, <=) thresholds, but exclusive is ok too\n",
    "    binary_output[(scaled_sobel >= thresh_min) & (scaled_sobel <= thresh_max)] = 1\n",
    "\n",
    "    # Return the result\n",
    "    return binary_output\n",
    "\n",
    "sobeled = abs_sobel_thresh(warped)\n",
    "plt.imshow(sobeled, cmap=\"gray\")\n",
    "plt.show()\n"
   ]
  },
  {
   "cell_type": "code",
   "execution_count": null,
   "metadata": {},
   "outputs": [],
   "source": []
  },
  {
   "cell_type": "code",
   "execution_count": null,
   "metadata": {
    "collapsed": true
   },
   "outputs": [],
   "source": []
  }
 ],
 "metadata": {
  "kernelspec": {
   "display_name": "Python 3",
   "language": "python",
   "name": "python3"
  },
  "language_info": {
   "codemirror_mode": {
    "name": "ipython",
    "version": 3
   },
   "file_extension": ".py",
   "mimetype": "text/x-python",
   "name": "python",
   "nbconvert_exporter": "python",
   "pygments_lexer": "ipython3",
   "version": "3.6.1"
  }
 },
 "nbformat": 4,
 "nbformat_minor": 2
}
